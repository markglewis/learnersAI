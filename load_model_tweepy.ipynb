{
  "nbformat": 4,
  "nbformat_minor": 0,
  "metadata": {
    "kernelspec": {
      "display_name": "Python 3",
      "language": "python",
      "name": "python3"
    },
    "language_info": {
      "codemirror_mode": {
        "name": "ipython",
        "version": 3
      },
      "file_extension": ".py",
      "mimetype": "text/x-python",
      "name": "python",
      "nbconvert_exporter": "python",
      "pygments_lexer": "ipython3",
      "version": "3.8.0"
    },
    "colab": {
      "name": "load_model_tweepy.ipynb",
      "provenance": [],
      "include_colab_link": true
    }
  },
  "cells": [
    {
      "cell_type": "markdown",
      "metadata": {
        "id": "view-in-github",
        "colab_type": "text"
      },
      "source": [
        "<a href=\"https://colab.research.google.com/github/markglewis/learnersAI/blob/master/load_model_tweepy.ipynb\" target=\"_parent\"><img src=\"https://colab.research.google.com/assets/colab-badge.svg\" alt=\"Open In Colab\"/></a>"
      ]
    },
    {
      "cell_type": "code",
      "metadata": {
        "id": "AbgHaqSG-igR",
        "colab_type": "code",
        "colab": {}
      },
      "source": [
        "#Predict using model trained in binary_classif_stocks\n",
        "import pickle\n",
        "\n",
        "load_model = pickle.load(open('save_model/bayes_count.sav','rb'))\n",
        "count_vect = pickle.load(open('save_model/count_vect.sav','rb'))\n"
      ],
      "execution_count": null,
      "outputs": []
    },
    {
      "cell_type": "code",
      "metadata": {
        "id": "d6A57WGs-igU",
        "colab_type": "code",
        "colab": {},
        "outputId": "67df63fc-aa64-4dd6-ff9a-0cd4f4a137c3"
      },
      "source": [
        "import pandas as pd\n",
        "\n",
        "dftest = pd.read_csv('../datasets/FiQA/task1_post_ABSA_train_senti.csv',usecols=[1,4])\n",
        "#dftest = pd.read_csv('../datasets/FiQA/task1_headline_ABSA_train_senti.csv',usecols=[1,4])\n",
        "#dftest = pd.read_csv('../datasets/dataset1/all-data_senti.csv',usecols=[2,4])\n",
        "\n",
        "print('\\n',dftest.shape)\n",
        "\n",
        "dftest.dropna(subset=[\"clean_headline\"],inplace=True)\n",
        "\n",
        "print('')\n",
        "print('',dftest.shape)\n",
        "\n",
        "nr = dftest.shape[0]\n",
        "\n",
        "print('\\nnr = ',nr)\n",
        "\n",
        "print('\\n',dftest[['clean_headline','three_senti']].head(5))"
      ],
      "execution_count": null,
      "outputs": [
        {
          "output_type": "stream",
          "text": [
            "\n",
            " (675, 2)\n",
            "\n",
            " (675, 2)\n",
            "\n",
            "nr =  675\n",
            "\n",
            "                                       clean_headline  three_senti\n",
            "0       slowli ad fio got ta care one biggest winner            1\n",
            "1                          trx long setup macd cross            1\n",
            "2  optimist amzn fundement chart look like poopoo...           -1\n",
            "3                   grpn might sell off ahead p earn           -1\n",
            "4                        iaci look good weekli chart            1\n"
          ],
          "name": "stdout"
        }
      ]
    },
    {
      "cell_type": "code",
      "metadata": {
        "id": "FEYnoYsK-igX",
        "colab_type": "code",
        "colab": {},
        "outputId": "d6d8a384-640b-4a12-c8cc-ff333c2eca42"
      },
      "source": [
        "import seaborn as sns\n",
        "import matplotlib.pyplot as plt\n",
        "\n",
        "idxnames = dftest[ dftest['three_senti']==0 ].index\n",
        "\n",
        "dftest.drop(idxnames,inplace=True)\n",
        "print(dftest.shape)\n",
        "\n",
        "plt.figure(1)\n",
        "sns.countplot(dftest.three_senti)\n",
        "\n",
        "plt.show()\n",
        "\n"
      ],
      "execution_count": null,
      "outputs": [
        {
          "output_type": "stream",
          "text": [
            "(622, 2)\n"
          ],
          "name": "stdout"
        },
        {
          "output_type": "display_data",
          "data": {
            "image/png": "[encoded data removed]",
            "text/plain": [
              "<Figure size 432x288 with 1 Axes>"
            ]
          },
          "metadata": {
            "tags": [],
            "needs_background": "light"
          }
        }
      ]
    },
    {
      "cell_type": "code",
      "metadata": {
        "id": "yYeXl4aj-iga",
        "colab_type": "code",
        "colab": {},
        "outputId": "4b08ea64-4ffc-4c2c-d416-65e6a5d2472b"
      },
      "source": [
        "from sklearn import model_selection\n",
        "import numpy as np\n",
        "\n",
        "# split the dataset into training and validation datasets \n",
        "trainx, validx, trainy, validy = model_selection.train_test_split(dftest['clean_headline'], dftest['three_senti'])\n",
        "\n",
        "print('\\n',isinstance(trainx,list))\n",
        "\n",
        "print('\\n',type(trainx))\n",
        "\n",
        "print('\\nshape = ',np.shape(trainx),np.shape(validx))\n",
        "print('\\nshape = ',np.shape(trainy),np.shape(validy))\n",
        "\n",
        "print('\\n',trainx.iloc[0])\n",
        "print(trainy.iloc[0])\n",
        "\n",
        "print('\\n',trainx.iloc[3])\n",
        "print(trainy.iloc[3])"
      ],
      "execution_count": null,
      "outputs": [
        {
          "output_type": "stream",
          "text": [
            "\n",
            " False\n",
            "\n",
            " <class 'pandas.core.series.Series'>\n",
            "\n",
            "shape =  (466,) (156,)\n",
            "\n",
            "shape =  (466,) (156,)\n",
            "\n",
            " linkedin revenu up nearli lnkd\n",
            "1\n",
            "\n",
            " rt tlt still rise rsi macd bond buy signal bad move market spi uup\n",
            "-1\n"
          ],
          "name": "stdout"
        }
      ]
    },
    {
      "cell_type": "code",
      "metadata": {
        "id": "jk5qCxnD-igc",
        "colab_type": "code",
        "colab": {},
        "outputId": "25b876b5-0d93-4339-d199-bc107b5594df"
      },
      "source": [
        "from sklearn import metrics\n",
        "\n",
        "xtraincount =  count_vect.transform(trainx)\n",
        "xvalidcount =  count_vect.transform(validx)\n",
        "\n",
        "print('\\nshape = ',np.shape(xtraincount),np.shape(xvalidcount))\n",
        "\n",
        "predictions = load_model.predict(xvalidcount)\n",
        "print('\\ntest = ',metrics.classification_report(validy,predictions))\n",
        "\n",
        "predictions = load_model.predict(xtraincount)\n",
        "print('\\ntrain = ',metrics.classification_report(trainy,predictions))"
      ],
      "execution_count": null,
      "outputs": [
        {
          "output_type": "stream",
          "text": [
            "\n",
            "shape =  (466, 18669) (156, 18669)\n",
            "\n",
            "test =                precision    recall  f1-score   support\n",
            "\n",
            "          -1       0.65      0.57      0.61        49\n",
            "           1       0.81      0.86      0.84       107\n",
            "\n",
            "    accuracy                           0.77       156\n",
            "   macro avg       0.73      0.72      0.72       156\n",
            "weighted avg       0.76      0.77      0.76       156\n",
            "\n",
            "\n",
            "train =                precision    recall  f1-score   support\n",
            "\n",
            "          -1       0.64      0.56      0.60       164\n",
            "           1       0.78      0.83      0.80       302\n",
            "\n",
            "    accuracy                           0.74       466\n",
            "   macro avg       0.71      0.70      0.70       466\n",
            "weighted avg       0.73      0.74      0.73       466\n",
            "\n"
          ],
          "name": "stdout"
        }
      ]
    },
    {
      "cell_type": "code",
      "metadata": {
        "id": "_4LgI8zG-ige",
        "colab_type": "code",
        "colab": {},
        "outputId": "21c26325-25ff-476f-bfb9-f92850dd1e9f"
      },
      "source": [
        "import text_clean as tc\n",
        "\n",
        "\n",
        "testheadlines = [\n",
        "                 'TSLA - Cybertruck expected to hit the market strong',\n",
        "                 'AAPL is social status!! No kids in Jr, and high school in America want android devices, they all want iPhones, and AAPL PRODUCTS!',\n",
        "                 'Tweet stayed true. MSFT NVDA AMZN AAPL NFLX making new highs, lots of small caps down. Probably will be a trend for the week',\n",
        "                 'XLK the clear leader today w/ AAPL AMZN MSFT &amp; GOOGL here having good days. We’ll see if the strength continues this week!',\n",
        "                 'Microsoft MSFT Receives Buy Rating from Fundamental Research',\n",
        "                 'NVDA dominated by bulls lifting the market higher throughout the day',\n",
        "                 'AAPL at extension Long or short it with BTC on Trade8',\n",
        "                 'Seems like a great deal for Facebook Gaming, and a complete failure for Microsoft',\n",
        "                 'Dow Jones Slides 200 Points On Coronavirus Fears',\n",
        "                 'Googles U.S. ad revenue projected to fall this year',\n",
        "                 'Amazon plans facilities in Matteson, Markham',\n",
        "                 'American whiskey distillers are down $340 million thanks to Trumps trade wars'\n",
        "                ] \n",
        "\n",
        "nr = len(testheadlines)\n",
        "dftest = pd.DataFrame(columns=['headline','clean_headline'],index=np.arange(nr))\n",
        "\n",
        "print(dftest.columns.values)\n",
        "\n",
        "for ii in np.arange(nr):\n",
        "  txt = testheadlines[ii]\n",
        "  print('\\n--i, txt = ',ii,txt)\n",
        "  txt =  tc.p.clean(txt)\n",
        "  txt = tc.remove_pattern(txt)\n",
        "  txt = tc.replace_chars(txt) \n",
        "  dftest.iloc[ii]['clean_headline'] = tc.normalize_doc(txt)\n",
        "  print(' = ',dftest.iloc[ii]['clean_headline'])"
      ],
      "execution_count": null,
      "outputs": [
        {
          "output_type": "stream",
          "text": [
            "['headline' 'clean_headline']\n",
            "\n",
            "--i, txt =  0 TSLA - Cybertruck expected to hit the market strong\n",
            " =  tsla cybertruck expect hit market strong\n",
            "\n",
            "--i, txt =  1 AAPL is social status!! No kids in Jr, and high school in America want android devices, they all want iPhones, and AAPL PRODUCTS!\n",
            " =  aapl social statu no kid in jr high school in america want android devic want iphon aapl product\n",
            "\n",
            "--i, txt =  2 Tweet stayed true. MSFT NVDA AMZN AAPL NFLX making new highs, lots of small caps down. Probably will be a trend for the week\n",
            " =  tweet stay true msft nvda amzn aapl nflx make new high lot small cap down probabl trend week\n",
            "\n",
            "--i, txt =  3 XLK the clear leader today w/ AAPL AMZN MSFT &amp; GOOGL here having good days. We’ll see if the strength continues this week!\n",
            " =  xlk clear leader today w aapl amzn msft googl good day see strength continu week\n",
            "\n",
            "--i, txt =  4 Microsoft MSFT Receives Buy Rating from Fundamental Research\n",
            " =  microsoft msft receiv buy rate fundament research\n",
            "\n",
            "--i, txt =  5 NVDA dominated by bulls lifting the market higher throughout the day\n",
            " =  nvda domin bull lift market higher throughout day\n",
            "\n",
            "--i, txt =  6 AAPL at extension Long or short it with BTC on Trade8\n",
            " =  aapl extens long short btc trade\n",
            "\n",
            "--i, txt =  7 Seems like a great deal for Facebook Gaming, and a complete failure for Microsoft\n",
            " =  seem like great deal facebook game complet failur microsoft\n",
            "\n",
            "--i, txt =  8 Dow Jones Slides 200 Points On Coronavirus Fears\n",
            " =  dow jone slide point coronaviru fear\n",
            "\n",
            "--i, txt =  9 Googles U.S. ad revenue projected to fall this year\n",
            " =  googl u ad revenu project fall year\n",
            "\n",
            "--i, txt =  10 Amazon plans facilities in Matteson, Markham\n",
            " =  amazon plan facil in matteson markham\n",
            "\n",
            "--i, txt =  11 American whiskey distillers are down $340 million thanks to Trumps trade wars\n",
            " =  american whiskey distil down million thank trump trade war\n"
          ],
          "name": "stdout"
        }
      ]
    },
    {
      "cell_type": "code",
      "metadata": {
        "id": "SsFGidlb-igh",
        "colab_type": "code",
        "colab": {},
        "outputId": "e811bd73-271f-40f7-898c-38fdd896a792"
      },
      "source": [
        "ser = dftest['clean_headline']\n",
        "\n",
        "print(type(ser))\n",
        "\n",
        "#print(type(valid_x))\n",
        "\n",
        "print('\\nsize = ',ser.size,'\\n')\n",
        "\n",
        "for val in ser.values[0:4]:\n",
        " print(val)   \n",
        "\n",
        "ser_count =  count_vect.transform(ser)\n",
        "\n",
        "print(type(ser_count))\n",
        "\n",
        "print('\\n')\n",
        "\n",
        "predictions = load_model.predict(ser_count)\n",
        "\n",
        "ii=0\n",
        "#for val in ser.values:\n",
        "for ii in np.arange(nr):\n",
        " print('\\n tweet, sentiment = ',testheadlines[ii],predictions[ii])\n",
        " ii += 1"
      ],
      "execution_count": null,
      "outputs": [
        {
          "output_type": "stream",
          "text": [
            "<class 'pandas.core.series.Series'>\n",
            "\n",
            "size =  12 \n",
            "\n",
            "tsla cybertruck expect hit market strong\n",
            "aapl social statu no kid in jr high school in america want android devic want iphon aapl product\n",
            "tweet stay true msft nvda amzn aapl nflx make new high lot small cap down probabl trend week\n",
            "xlk clear leader today w aapl amzn msft googl good day see strength continu week\n",
            "<class 'scipy.sparse.csr.csr_matrix'>\n",
            "\n",
            "\n",
            "\n",
            " tweet, sentiment =  TSLA - Cybertruck expected to hit the market strong 1\n",
            "\n",
            " tweet, sentiment =  AAPL is social status!! No kids in Jr, and high school in America want android devices, they all want iPhones, and AAPL PRODUCTS! 1\n",
            "\n",
            " tweet, sentiment =  Tweet stayed true. MSFT NVDA AMZN AAPL NFLX making new highs, lots of small caps down. Probably will be a trend for the week 1\n",
            "\n",
            " tweet, sentiment =  XLK the clear leader today w/ AAPL AMZN MSFT &amp; GOOGL here having good days. We’ll see if the strength continues this week! 1\n",
            "\n",
            " tweet, sentiment =  Microsoft MSFT Receives Buy Rating from Fundamental Research 1\n",
            "\n",
            " tweet, sentiment =  NVDA dominated by bulls lifting the market higher throughout the day 1\n",
            "\n",
            " tweet, sentiment =  AAPL at extension Long or short it with BTC on Trade8 1\n",
            "\n",
            " tweet, sentiment =  Seems like a great deal for Facebook Gaming, and a complete failure for Microsoft -1\n",
            "\n",
            " tweet, sentiment =  Dow Jones Slides 200 Points On Coronavirus Fears -1\n",
            "\n",
            " tweet, sentiment =  Googles U.S. ad revenue projected to fall this year -1\n",
            "\n",
            " tweet, sentiment =  Amazon plans facilities in Matteson, Markham -1\n",
            "\n",
            " tweet, sentiment =  American whiskey distillers are down $340 million thanks to Trumps trade wars -1\n"
          ],
          "name": "stdout"
        }
      ]
    },
    {
      "cell_type": "code",
      "metadata": {
        "id": "pCQLeuLM-igk",
        "colab_type": "code",
        "colab": {}
      },
      "source": [
        "import os\n",
        "import tweepy as tw\n",
        "\n",
        "consumer_key = ''\n",
        "consumer_secret = ''\n",
        "access_token = ''\n",
        "access_token_secret = ''\n",
        "\n",
        "auth = tw.OAuthHandler(consumer_key, consumer_secret)\n",
        "auth.set_access_token(access_token, access_token_secret)\n",
        "api = tw.API(auth, wait_on_rate_limit=True)"
      ],
      "execution_count": null,
      "outputs": []
    },
    {
      "cell_type": "code",
      "metadata": {
        "id": "xrX9ADvn-igm",
        "colab_type": "code",
        "colab": {}
      },
      "source": [
        "#search_words = \"$AAPL OR $TSLA OR $MSFT OR $FB OR $JNJ OR $CSCO OR $NVDA -filter:retweets\"\n",
        "#search_words = \"#AAPL OR AAPL -filter:retweets\"\n",
        "#search_words = \"#TSLA -filter:retweets\"\n",
        "search_words = \"#TSLA or TSLA or TESLA\"\n",
        "date_since = \"2010-06-10\"\n",
        "date_until= \"2010-06-10\""
      ],
      "execution_count": null,
      "outputs": []
    },
    {
      "cell_type": "code",
      "metadata": {
        "id": "SN_VvmeZ-igp",
        "colab_type": "code",
        "colab": {},
        "outputId": "4dd9e1e5-46b4-4036-a2c4-f52cbd6654b6"
      },
      "source": [
        "#Collect tweets\n",
        "tweets = tw.Cursor(api.search,\n",
        "              q=search_words,\n",
        "              lang=\"en\",since=date_since, tweet_mode='extended').items(2000)\n",
        "print('\\n',tweets)"
      ],
      "execution_count": null,
      "outputs": [
        {
          "output_type": "stream",
          "text": [
            "\n",
            " <tweepy.cursor.ItemIterator object at 0x0000020727E9BC48>\n"
          ],
          "name": "stdout"
        }
      ]
    },
    {
      "cell_type": "code",
      "metadata": {
        "id": "n5P7vmEN-igr",
        "colab_type": "code",
        "colab": {},
        "outputId": "5d3ceaa2-0dde-424f-c58a-a4f388e6ae56"
      },
      "source": [
        "tweetlst = []\n",
        "\n",
        "i=0\n",
        "for tweet in tweets:\n",
        " #print(tweet)\n",
        " print('\\n--------',i,len(tweet.full_text),tweet.created_at, tweet.retweeted, tweet.truncated)\n",
        " print('',tweet.source, tweet.retweet_count, tweet.favorite_count)\n",
        " print('hashtags = ',tweet.entities.get('hashtags'))\n",
        " #print(tweet.text)\n",
        " print('!!',tweet.full_text)\n",
        " print('**',tc.p.clean(tweet.full_text))\n",
        " tweetlst.append(tc.p.clean(tweet.full_text))\n",
        " i += 1\n",
        "    \n",
        "print('\\ni = ',i)\n",
        "nr = len(tweetlst)"
      ],
      "execution_count": null,
      "outputs": [
        {
          "output_type": "stream",
          "text": [
            "\n",
            "-------- 0 300 2020-06-24 12:51:39 False False\n",
            " Twitter Web App 0 1\n",
            "hashtags =  [{'text': 'TSLA', 'indices': [198, 203]}, {'text': 'Tesla', 'indices': [204, 210]}, {'text': 'OptionsTrading', 'indices': [211, 226]}, {'text': 'technicalanalysis', 'indices': [227, 245]}, {'text': 'money', 'indices': [246, 252]}]\n",
            "!! $TSLA has broken below key support levels that I mentioned yesterday eve. Will be watching for continuation or a retest of these areas. If it continues lower, I have s/l's 989, 987.7, 983 &amp; 977 #TSLA #Tesla #OptionsTrading #technicalanalysis #money https://t.co/0iJclnAnYj https://t.co/L7VVvSgpGk\n",
            "** $TSLA has broken below key support levels that I mentioned yesterday eve. Will be watching for continuation or a retest of these areas. If it continues lower, I have s/l's 989, 987.7, 983 &amp; 977 #TSLA #Tesla #OptionsTrading #technicalanalysis #money\n"
          ],
          "name": "stdout"
        },
        {
          "output_type": "error",
          "ename": "NameError",
          "evalue": "name 'p' is not defined",
          "traceback": [
            "\u001b[1;31m---------------------------------------------------------------------------\u001b[0m",
            "\u001b[1;31mNameError\u001b[0m                                 Traceback (most recent call last)",
            "\u001b[1;32m<ipython-input-27-6ce0c53db0f8>\u001b[0m in \u001b[0;36m<module>\u001b[1;34m\u001b[0m\n\u001b[0;32m     10\u001b[0m  \u001b[0mprint\u001b[0m\u001b[1;33m(\u001b[0m\u001b[1;34m'!!'\u001b[0m\u001b[1;33m,\u001b[0m\u001b[0mtweet\u001b[0m\u001b[1;33m.\u001b[0m\u001b[0mfull_text\u001b[0m\u001b[1;33m)\u001b[0m\u001b[1;33m\u001b[0m\u001b[1;33m\u001b[0m\u001b[0m\n\u001b[0;32m     11\u001b[0m  \u001b[0mprint\u001b[0m\u001b[1;33m(\u001b[0m\u001b[1;34m'**'\u001b[0m\u001b[1;33m,\u001b[0m\u001b[0mtc\u001b[0m\u001b[1;33m.\u001b[0m\u001b[0mp\u001b[0m\u001b[1;33m.\u001b[0m\u001b[0mclean\u001b[0m\u001b[1;33m(\u001b[0m\u001b[0mtweet\u001b[0m\u001b[1;33m.\u001b[0m\u001b[0mfull_text\u001b[0m\u001b[1;33m)\u001b[0m\u001b[1;33m)\u001b[0m\u001b[1;33m\u001b[0m\u001b[1;33m\u001b[0m\u001b[0m\n\u001b[1;32m---> 12\u001b[1;33m  \u001b[0mtweetlst\u001b[0m\u001b[1;33m.\u001b[0m\u001b[0mappend\u001b[0m\u001b[1;33m(\u001b[0m\u001b[0mp\u001b[0m\u001b[1;33m.\u001b[0m\u001b[0mclean\u001b[0m\u001b[1;33m(\u001b[0m\u001b[0mtweet\u001b[0m\u001b[1;33m.\u001b[0m\u001b[0mfull_text\u001b[0m\u001b[1;33m)\u001b[0m\u001b[1;33m)\u001b[0m\u001b[1;33m\u001b[0m\u001b[1;33m\u001b[0m\u001b[0m\n\u001b[0m\u001b[0;32m     13\u001b[0m  \u001b[0mi\u001b[0m \u001b[1;33m+=\u001b[0m \u001b[1;36m1\u001b[0m\u001b[1;33m\u001b[0m\u001b[1;33m\u001b[0m\u001b[0m\n\u001b[0;32m     14\u001b[0m \u001b[1;33m\u001b[0m\u001b[0m\n",
            "\u001b[1;31mNameError\u001b[0m: name 'p' is not defined"
          ]
        }
      ]
    },
    {
      "cell_type": "code",
      "metadata": {
        "id": "5ai_2R5f-igt",
        "colab_type": "code",
        "colab": {}
      },
      "source": [
        "dftw = pd.DataFrame(columns=['headline','clean_headline'],index=np.arange(nr))\n",
        "\n",
        "print(dfdw.columns.values)\n",
        "\n",
        "for ii in np.arange(nr):\n",
        "  txt = tweetlst[ii]\n",
        "  print('\\n--i, txt = ',ii,txt)\n",
        "  txt =  tc.p.clean(txt)\n",
        "  txt = tc.remove_pattern(txt)\n",
        "  txt = tc.replace_chars(txt) \n",
        "  dftest.iloc[ii]['clean_headline'] = tc.normalize_doc(txt)\n",
        "  \n",
        "  print(' = ',dftest.iloc[ii]['clean_headline'])"
      ],
      "execution_count": null,
      "outputs": []
    }
  ]
}